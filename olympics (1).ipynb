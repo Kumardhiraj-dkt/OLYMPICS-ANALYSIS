{
  "nbformat": 4,
  "nbformat_minor": 0,
  "metadata": {
    "kernelspec": {
      "display_name": "Python 2",
      "language": "python",
      "name": "python2"
    },
    "language_info": {
      "codemirror_mode": {
        "name": "ipython",
        "version": 2
      },
      "file_extension": ".py",
      "mimetype": "text/x-python",
      "name": "python",
      "nbconvert_exporter": "python",
      "pygments_lexer": "ipython2",
      "version": "2.7.16"
    },
    "colab": {
      "name": "olympics.ipynb",
      "provenance": []
    }
  },
  "cells": [
    {
      "cell_type": "markdown",
      "metadata": {
        "id": "b7HPafbNvhbH"
      },
      "source": [
        "# Summer Olympics Data Analysis Assignment"
      ]
    },
    {
      "cell_type": "code",
      "metadata": {
        "id": "zDAKJ3ihvxZ4"
      },
      "source": [
        "import pandas as pd"
      ],
      "execution_count": 1,
      "outputs": []
    },
    {
      "cell_type": "code",
      "metadata": {
        "id": "aLEkvFTKv5kO"
      },
      "source": [
        "df = pd.read_csv(\"olympics.csv\")"
      ],
      "execution_count": 2,
      "outputs": []
    },
    {
      "cell_type": "code",
      "metadata": {
        "id": "7fcfoYjJwImL"
      },
      "source": [
        "df"
      ],
      "execution_count": null,
      "outputs": []
    },
    {
      "cell_type": "markdown",
      "metadata": {
        "id": "t3GKDF22vhbZ"
      },
      "source": [
        "### 1. In how many cities Summer Olympics is held so far?"
      ]
    },
    {
      "cell_type": "code",
      "metadata": {
        "colab": {
          "base_uri": "https://localhost:8080/"
        },
        "id": "PO6aryyhvhbb",
        "outputId": "fd904d8c-5774-4aed-f55d-2fa754617e14"
      },
      "source": [
        "print(len(df['City'].unique()))"
      ],
      "execution_count": 4,
      "outputs": [
        {
          "output_type": "stream",
          "name": "stdout",
          "text": [
            "22\n"
          ]
        }
      ]
    },
    {
      "cell_type": "markdown",
      "metadata": {
        "id": "RK3RVjxuvhbc"
      },
      "source": [
        "### 2. Which sport is having most number of Gold Medals so far? (Top 5)"
      ]
    },
    {
      "cell_type": "code",
      "metadata": {
        "colab": {
          "base_uri": "https://localhost:8080/",
          "height": 539
        },
        "id": "2VMPR_LVvhbd",
        "outputId": "b9213204-d957-4878-8297-16d97c488787"
      },
      "source": [
        "d = pd.read_csv(\"olympics.csv\", index_col=\"Medal\")\n",
        "d.drop([\"Silver\",\"Bronze\"], inplace = True)\n",
        "\n",
        "data = []\n",
        "for sport in d['Sport'].unique():\n",
        "  data.append([sport,len(d[d['Sport']==sport])])\n",
        "data = pd.DataFrame(data,columns=['Sport','Medals'])\n",
        "data = data.sort_values(by = 'Medals', ascending = False)\n",
        "print\n",
        "print(data.head())\n",
        "print\n",
        "data.head().plot(x = 'Sport', y = 'Medals', kind = 'bar', figsize = (10,5))"
      ],
      "execution_count": 44,
      "outputs": [
        {
          "output_type": "stream",
          "name": "stdout",
          "text": [
            "\n",
            "         Sport  Medals\n",
            "0     Aquatics    1421\n",
            "1    Athletics    1215\n",
            "17      Rowing     890\n",
            "4   Gymnastics     820\n",
            "3      Fencing     552\n",
            "\n"
          ]
        },
        {
          "output_type": "execute_result",
          "data": {
            "text/plain": [
              "<matplotlib.axes._subplots.AxesSubplot at 0x7f62f046a450>"
            ]
          },
          "metadata": {},
          "execution_count": 44
        },
        {
          "output_type": "display_data",
          "data": {
            "image/png": "[encoded data removed]",
            "text/plain": [
              "<Figure size 720x360 with 1 Axes>"
            ]
          },
          "metadata": {
            "needs_background": "light"
          }
        }
      ]
    },
    {
      "cell_type": "markdown",
      "metadata": {
        "id": "tlfKs2aqvhbe"
      },
      "source": [
        "### 3. Which sport is having most number of medals so far? (Top 5)"
      ]
    },
    {
      "cell_type": "code",
      "metadata": {
        "colab": {
          "base_uri": "https://localhost:8080/",
          "height": 539
        },
        "id": "v6PlCCpivhbf",
        "outputId": "de8e3791-b2bc-48c0-d1e5-36580744f39d"
      },
      "source": [
        "data = []\n",
        "for sport in df['Sport'].unique():\n",
        "  data.append([sport,len(df[df['Sport']==sport])])\n",
        "data = pd.DataFrame(data,columns=['Sport','Medals'])\n",
        "data = data.sort_values(by = 'Medals', ascending = False)\n",
        "print\n",
        "print(data.head())\n",
        "print\n",
        "data.head().plot(x = 'Sport', y = 'Medals', kind = 'bar', figsize = (10,5))"
      ],
      "execution_count": 9,
      "outputs": [
        {
          "output_type": "stream",
          "name": "stdout",
          "text": [
            "\n",
            "         Sport  Medals\n",
            "0     Aquatics    4170\n",
            "1    Athletics    3638\n",
            "17      Rowing    2667\n",
            "4   Gymnastics    2307\n",
            "3      Fencing    1613\n",
            "\n"
          ]
        },
        {
          "output_type": "execute_result",
          "data": {
            "text/plain": [
              "<matplotlib.axes._subplots.AxesSubplot at 0x7f62f09d94d0>"
            ]
          },
          "metadata": {},
          "execution_count": 9
        },
        {
          "output_type": "display_data",
          "data": {
            "image/png": "[encoded data removed]",
            "text/plain": [
              "<Figure size 720x360 with 1 Axes>"
            ]
          },
          "metadata": {
            "needs_background": "light"
          }
        }
      ]
    },
    {
      "cell_type": "markdown",
      "metadata": {
        "id": "F59Fu-Mjvhbg"
      },
      "source": [
        "### 4. Which player has won most number of medals? (Top 5)"
      ]
    },
    {
      "cell_type": "code",
      "metadata": {
        "colab": {
          "base_uri": "https://localhost:8080/",
          "height": 598
        },
        "id": "mq6bYY8avhbh",
        "outputId": "4d695396-a506-4395-bfa9-75e4377736e2"
      },
      "source": [
        "data = []\n",
        "for player in df['Athlete'].unique():\n",
        "  data.append([player,len(df[df['Athlete']==player])])\n",
        "data = pd.DataFrame(data,columns=['Athlete','Medals'])\n",
        "data = data.sort_values(by = 'Medals', ascending = False)\n",
        "print\n",
        "print(data.head())\n",
        "print\n",
        "data.head().plot(x = 'Athlete', y = 'Medals', kind = 'bar', figsize = (10,5))"
      ],
      "execution_count": 11,
      "outputs": [
        {
          "output_type": "stream",
          "name": "stdout",
          "text": [
            "\n",
            "                    Athlete  Medals\n",
            "18640       PHELPS, Michael      22\n",
            "7197       LATYNINA, Larisa      18\n",
            "9948     ANDRIANOV, Nikolay      15\n",
            "6591           ONO, Takashi      13\n",
            "5103   MANGIAROTTI, Edoardo      13\n",
            "\n"
          ]
        },
        {
          "output_type": "execute_result",
          "data": {
            "text/plain": [
              "<matplotlib.axes._subplots.AxesSubplot at 0x7f62f03f3f50>"
            ]
          },
          "metadata": {},
          "execution_count": 11
        },
        {
          "output_type": "display_data",
          "data": {
            "image/png": "[encoded data removed]",
            "text/plain": [
              "<Figure size 720x360 with 1 Axes>"
            ]
          },
          "metadata": {
            "needs_background": "light"
          }
        }
      ]
    },
    {
      "cell_type": "markdown",
      "metadata": {
        "id": "X7J6zR1Tvhbi"
      },
      "source": [
        "### 5. Which player has won most number Gold Medals of medals? (Top 5)"
      ]
    },
    {
      "cell_type": "code",
      "metadata": {
        "colab": {
          "base_uri": "https://localhost:8080/",
          "height": 566
        },
        "id": "2A4fkbvgvhbi",
        "outputId": "98abf1b0-deb4-4519-e1c2-d1069a0b6e31"
      },
      "source": [
        "d = pd.read_csv(\"olympics.csv\", index_col=\"Medal\")\n",
        "d.drop([\"Silver\",\"Bronze\"], inplace = True)\n",
        "\n",
        "data = []\n",
        "for player in d['Athlete'].unique():\n",
        "  data.append([player,len(d[d['Athlete']==player])])\n",
        "data = pd.DataFrame(data,columns=['Athlete','Medals'])\n",
        "data = data.sort_values(by = 'Medals', ascending = False)\n",
        "print\n",
        "print(data.head())\n",
        "print\n",
        "data.head().plot(x = 'Athlete', y = 'Medals', kind = 'bar', figsize = (10,5))"
      ],
      "execution_count": 45,
      "outputs": [
        {
          "output_type": "stream",
          "name": "stdout",
          "text": [
            "\n",
            "               Athlete  Medals\n",
            "6851   PHELPS, Michael      18\n",
            "3320       SPITZ, Mark       9\n",
            "2714  LATYNINA, Larisa       9\n",
            "4630       LEWIS, Carl       9\n",
            "907       NURMI, Paavo       9\n",
            "\n"
          ]
        },
        {
          "output_type": "execute_result",
          "data": {
            "text/plain": [
              "<matplotlib.axes._subplots.AxesSubplot at 0x7f62ee7c6d90>"
            ]
          },
          "metadata": {},
          "execution_count": 45
        },
        {
          "output_type": "display_data",
          "data": {
            "image/png": "[encoded data removed]",
            "text/plain": [
              "<Figure size 720x360 with 1 Axes>"
            ]
          },
          "metadata": {
            "needs_background": "light"
          }
        }
      ]
    },
    {
      "cell_type": "markdown",
      "metadata": {
        "id": "-Zuvv7z7vhbi"
      },
      "source": [
        "### 6. In which year India won first Gold Medal in Summer Olympics?"
      ]
    },
    {
      "cell_type": "code",
      "metadata": {
        "colab": {
          "base_uri": "https://localhost:8080/"
        },
        "id": "2-j-H7_Zvhbj",
        "outputId": "47a9442b-2817-4fc8-bc78-2ac34803b215"
      },
      "source": [
        "data = pd.read_csv(\"olympics.csv\", index_col=\"Medal\")\n",
        "data.drop([\"Silver\",\"Bronze\"], inplace = True)\n",
        "\n",
        "d = data.groupby(['Country']).get_group('IND')\n",
        "d_Year = d['Year']\n",
        "years = list(d_Year)\n",
        "print(years[0])"
      ],
      "execution_count": 42,
      "outputs": [
        {
          "output_type": "stream",
          "name": "stdout",
          "text": [
            "1928\n"
          ]
        }
      ]
    },
    {
      "cell_type": "markdown",
      "metadata": {
        "id": "if1Ls2qRvhbj"
      },
      "source": [
        "### 7. Which event is most popular in terms on number of players? (Top 5)"
      ]
    },
    {
      "cell_type": "code",
      "metadata": {
        "colab": {
          "base_uri": "https://localhost:8080/",
          "height": 572
        },
        "id": "9YG6UIJxvhbk",
        "outputId": "cc659d07-2f08-43da-fa7c-8d23f86130d3"
      },
      "source": [
        "data = []\n",
        "for events in df['Event'].unique():\n",
        "  data.append([events,len(df[df['Event']==events])])\n",
        "data = pd.DataFrame(data,columns=['Event','Players'])\n",
        "data = data.sort_values(by = 'Players', ascending = False)\n",
        "print\n",
        "print(data.head())\n",
        "print\n",
        "data.head().plot(x = 'Event', y = 'Players', kind = 'bar', figsize = (10,5))"
      ],
      "execution_count": 46,
      "outputs": [
        {
          "output_type": "stream",
          "name": "stdout",
          "text": [
            "\n",
            "                Event  Players\n",
            "80           Football     1497\n",
            "176            Hockey     1422\n",
            "138  Team Competition     1147\n",
            "327        Basketball     1012\n",
            "337          Handball      973\n",
            "\n"
          ]
        },
        {
          "output_type": "execute_result",
          "data": {
            "text/plain": [
              "<matplotlib.axes._subplots.AxesSubplot at 0x7f62f06b1b90>"
            ]
          },
          "metadata": {},
          "execution_count": 46
        },
        {
          "output_type": "display_data",
          "data": {
            "image/png": "[encoded data removed]",
            "text/plain": [
              "<Figure size 720x360 with 1 Axes>"
            ]
          },
          "metadata": {
            "needs_background": "light"
          }
        }
      ]
    },
    {
      "cell_type": "markdown",
      "metadata": {
        "id": "6P8p9Ku0vhbl"
      },
      "source": [
        "### 8. Which sport is having most female Gold Medalists? (Top 5)"
      ]
    },
    {
      "cell_type": "code",
      "metadata": {
        "colab": {
          "base_uri": "https://localhost:8080/",
          "height": 539
        },
        "id": "GePynT4ovhbl",
        "outputId": "7e15e915-8133-47d0-b300-ba4a901c93c9"
      },
      "source": [
        "d2 = pd.read_csv(\"olympics.csv\", index_col=\"Medal\")\n",
        "d2.drop([\"Silver\",\"Bronze\"], inplace = True)\n",
        "\n",
        "d = d2.groupby(['Gender']).get_group('Women')\n",
        "\n",
        "data = []\n",
        "for sport in d['Sport'].unique():\n",
        "  data.append([sport,len(d[d['Sport']==sport])])\n",
        "data = pd.DataFrame(data,columns=['Sport','Medals'])\n",
        "data = data.sort_values(by = 'Medals', ascending = False)\n",
        "print\n",
        "print(data.head())\n",
        "print\n",
        "data.head().plot(x = 'Sport', y = 'Medals', kind = 'bar', figsize = (10,5))"
      ],
      "execution_count": 48,
      "outputs": [
        {
          "output_type": "stream",
          "name": "stdout",
          "text": [
            "\n",
            "         Sport  Medals\n",
            "4     Aquatics     589\n",
            "7    Athletics     389\n",
            "8   Gymnastics     268\n",
            "14      Rowing     217\n",
            "11  Volleyball     166\n",
            "\n"
          ]
        },
        {
          "output_type": "execute_result",
          "data": {
            "text/plain": [
              "<matplotlib.axes._subplots.AxesSubplot at 0x7f62ee71bc10>"
            ]
          },
          "metadata": {},
          "execution_count": 48
        },
        {
          "output_type": "display_data",
          "data": {
            "image/png": "[encoded data removed]",
            "text/plain": [
              "<Figure size 720x360 with 1 Axes>"
            ]
          },
          "metadata": {
            "needs_background": "light"
          }
        }
      ]
    }
  ]
}